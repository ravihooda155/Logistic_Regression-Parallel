{
 "cells": [
  {
   "cell_type": "code",
   "execution_count": 5,
   "metadata": {},
   "outputs": [],
   "source": [
    "import pandas as pd\n",
    "import numpy as np\n",
    "import matplotlib.pyplot as plt\n",
    "from sklearn.multiclass import OneVsRestClassifier\n",
    "from sklearn.metrics import confusion_matrix\n",
    "from sklearn.metrics import accuracy_score\n",
    "from sklearn.model_selection import train_test_split\n",
    "from sklearn.linear_model import LogisticRegression\n",
    "from sklearn.utils import shuffle"
   ]
  },
  {
   "cell_type": "code",
   "execution_count": 189,
   "metadata": {},
   "outputs": [],
   "source": [
    "train_df = pd.read_csv('data/vowel.csv', header=None)"
   ]
  },
  {
   "cell_type": "code",
   "execution_count": 190,
   "metadata": {},
   "outputs": [
    {
     "data": {
      "text/html": [
       "<div>\n",
       "<style scoped>\n",
       "    .dataframe tbody tr th:only-of-type {\n",
       "        vertical-align: middle;\n",
       "    }\n",
       "\n",
       "    .dataframe tbody tr th {\n",
       "        vertical-align: top;\n",
       "    }\n",
       "\n",
       "    .dataframe thead th {\n",
       "        text-align: right;\n",
       "    }\n",
       "</style>\n",
       "<table border=\"1\" class=\"dataframe\">\n",
       "  <thead>\n",
       "    <tr style=\"text-align: right;\">\n",
       "      <th></th>\n",
       "      <th>0</th>\n",
       "      <th>1</th>\n",
       "      <th>2</th>\n",
       "      <th>3</th>\n",
       "      <th>4</th>\n",
       "      <th>5</th>\n",
       "      <th>6</th>\n",
       "      <th>7</th>\n",
       "      <th>8</th>\n",
       "      <th>9</th>\n",
       "      <th>10</th>\n",
       "    </tr>\n",
       "  </thead>\n",
       "  <tbody>\n",
       "    <tr>\n",
       "      <th>0</th>\n",
       "      <td>0</td>\n",
       "      <td>-3.639</td>\n",
       "      <td>0.418</td>\n",
       "      <td>-0.670</td>\n",
       "      <td>1.779</td>\n",
       "      <td>-0.168</td>\n",
       "      <td>1.627</td>\n",
       "      <td>-0.388</td>\n",
       "      <td>0.529</td>\n",
       "      <td>-0.874</td>\n",
       "      <td>-0.814</td>\n",
       "    </tr>\n",
       "    <tr>\n",
       "      <th>1</th>\n",
       "      <td>1</td>\n",
       "      <td>-3.327</td>\n",
       "      <td>0.496</td>\n",
       "      <td>-0.694</td>\n",
       "      <td>1.365</td>\n",
       "      <td>-0.265</td>\n",
       "      <td>1.933</td>\n",
       "      <td>-0.363</td>\n",
       "      <td>0.510</td>\n",
       "      <td>-0.621</td>\n",
       "      <td>-0.488</td>\n",
       "    </tr>\n",
       "    <tr>\n",
       "      <th>2</th>\n",
       "      <td>2</td>\n",
       "      <td>-2.120</td>\n",
       "      <td>0.894</td>\n",
       "      <td>-1.576</td>\n",
       "      <td>0.147</td>\n",
       "      <td>-0.707</td>\n",
       "      <td>1.559</td>\n",
       "      <td>-0.579</td>\n",
       "      <td>0.676</td>\n",
       "      <td>-0.809</td>\n",
       "      <td>-0.049</td>\n",
       "    </tr>\n",
       "    <tr>\n",
       "      <th>3</th>\n",
       "      <td>3</td>\n",
       "      <td>-2.287</td>\n",
       "      <td>1.809</td>\n",
       "      <td>-1.498</td>\n",
       "      <td>1.012</td>\n",
       "      <td>-1.053</td>\n",
       "      <td>1.060</td>\n",
       "      <td>-0.567</td>\n",
       "      <td>0.235</td>\n",
       "      <td>-0.091</td>\n",
       "      <td>-0.795</td>\n",
       "    </tr>\n",
       "    <tr>\n",
       "      <th>4</th>\n",
       "      <td>4</td>\n",
       "      <td>-2.598</td>\n",
       "      <td>1.938</td>\n",
       "      <td>-0.846</td>\n",
       "      <td>1.062</td>\n",
       "      <td>-1.633</td>\n",
       "      <td>0.764</td>\n",
       "      <td>0.394</td>\n",
       "      <td>-0.150</td>\n",
       "      <td>0.277</td>\n",
       "      <td>-0.396</td>\n",
       "    </tr>\n",
       "  </tbody>\n",
       "</table>\n",
       "</div>"
      ],
      "text/plain": [
       "   0      1      2      3      4      5      6      7      8      9      10\n",
       "0   0 -3.639  0.418 -0.670  1.779 -0.168  1.627 -0.388  0.529 -0.874 -0.814\n",
       "1   1 -3.327  0.496 -0.694  1.365 -0.265  1.933 -0.363  0.510 -0.621 -0.488\n",
       "2   2 -2.120  0.894 -1.576  0.147 -0.707  1.559 -0.579  0.676 -0.809 -0.049\n",
       "3   3 -2.287  1.809 -1.498  1.012 -1.053  1.060 -0.567  0.235 -0.091 -0.795\n",
       "4   4 -2.598  1.938 -0.846  1.062 -1.633  0.764  0.394 -0.150  0.277 -0.396"
      ]
     },
     "execution_count": 190,
     "metadata": {},
     "output_type": "execute_result"
    }
   ],
   "source": [
    "train_df.head()"
   ]
  },
  {
   "cell_type": "code",
   "execution_count": 191,
   "metadata": {},
   "outputs": [],
   "source": [
    "df = shuffle(train_df)\n",
    "X, y = df.iloc[:,1:], df.iloc[:,0]\n",
    "X_train, X_test, y_train, y_test = train_test_split(X, y, test_size=0.2, random_state=42)"
   ]
  },
  {
   "cell_type": "code",
   "execution_count": 192,
   "metadata": {},
   "outputs": [],
   "source": [
    "#X, y = train_df.iloc[:,:-1], train_df.iloc[:,-1]"
   ]
  },
  {
   "cell_type": "code",
   "execution_count": 193,
   "metadata": {},
   "outputs": [],
   "source": [
    "clf = LogisticRegression(random_state=0, solver='lbfgs',\n",
    "...                          multi_class='ovr').fit(X_train, y_train)"
   ]
  },
  {
   "cell_type": "code",
   "execution_count": 194,
   "metadata": {},
   "outputs": [],
   "source": [
    "pred = clf.predict(X_test) "
   ]
  },
  {
   "cell_type": "code",
   "execution_count": 195,
   "metadata": {},
   "outputs": [
    {
     "data": {
      "text/plain": [
       "array([[10,  4,  0,  0,  0,  1,  0,  0,  1,  0,  1],\n",
       "       [ 1,  2,  1,  0,  0,  0,  0,  0,  1,  0,  0],\n",
       "       [ 0,  1,  5,  0,  0,  0,  2,  0,  0,  0,  0],\n",
       "       [ 0,  0,  0,  7,  0,  1,  0,  0,  0,  0,  0],\n",
       "       [ 0,  0,  0,  0,  6,  6,  6,  0,  0,  0,  0],\n",
       "       [ 0,  1,  0,  0,  2,  3,  0,  0,  1,  0,  0],\n",
       "       [ 0,  0,  0,  0,  1,  0,  3,  0,  0,  0,  0],\n",
       "       [ 0,  0,  0,  0,  0,  0,  3,  7,  1,  0,  0],\n",
       "       [ 0,  0,  0,  0,  0,  0,  0,  0,  6,  0,  2],\n",
       "       [ 1,  0,  0,  0,  0,  0,  0,  1,  2,  8,  0],\n",
       "       [ 0,  1,  0,  2,  1,  1,  1,  0,  0,  0,  2]])"
      ]
     },
     "execution_count": 195,
     "metadata": {},
     "output_type": "execute_result"
    }
   ],
   "source": [
    "confusion_matrix(pred, y_test)"
   ]
  },
  {
   "cell_type": "code",
   "execution_count": 196,
   "metadata": {},
   "outputs": [
    {
     "data": {
      "text/plain": [
       "0.5566037735849056"
      ]
     },
     "execution_count": 196,
     "metadata": {},
     "output_type": "execute_result"
    }
   ],
   "source": [
    "accuracy_score(pred, y_test)"
   ]
  },
  {
   "cell_type": "code",
   "execution_count": 10,
   "metadata": {},
   "outputs": [
    {
     "data": {
      "text/plain": [
       "0    2\n",
       "1    9\n",
       "2    6\n",
       "3    0\n",
       "4    3\n",
       "Name: label, dtype: int64"
      ]
     },
     "execution_count": 10,
     "metadata": {},
     "output_type": "execute_result"
    }
   ],
   "source": [
    "y.head()"
   ]
  },
  {
   "cell_type": "code",
   "execution_count": 33,
   "metadata": {},
   "outputs": [],
   "source": [
    "X1 = pd.read_csv('data/train_.csv', header=None)\n",
    "Y1 = pd.read_csv('data/train_label.csv', header = None)"
   ]
  },
  {
   "cell_type": "code",
   "execution_count": 197,
   "metadata": {},
   "outputs": [],
   "source": [
    "res_train = pd.concat([X_train, y_train], axis=1)\n",
    "res_test =  pd.concat([X_test, y_test], axis=1)"
   ]
  },
  {
   "cell_type": "code",
   "execution_count": 198,
   "metadata": {},
   "outputs": [
    {
     "data": {
      "text/html": [
       "<div>\n",
       "<style scoped>\n",
       "    .dataframe tbody tr th:only-of-type {\n",
       "        vertical-align: middle;\n",
       "    }\n",
       "\n",
       "    .dataframe tbody tr th {\n",
       "        vertical-align: top;\n",
       "    }\n",
       "\n",
       "    .dataframe thead th {\n",
       "        text-align: right;\n",
       "    }\n",
       "</style>\n",
       "<table border=\"1\" class=\"dataframe\">\n",
       "  <thead>\n",
       "    <tr style=\"text-align: right;\">\n",
       "      <th></th>\n",
       "      <th>1</th>\n",
       "      <th>2</th>\n",
       "      <th>3</th>\n",
       "      <th>4</th>\n",
       "      <th>5</th>\n",
       "      <th>6</th>\n",
       "      <th>7</th>\n",
       "      <th>8</th>\n",
       "      <th>9</th>\n",
       "      <th>10</th>\n",
       "      <th>0</th>\n",
       "    </tr>\n",
       "  </thead>\n",
       "  <tbody>\n",
       "    <tr>\n",
       "      <th>213</th>\n",
       "      <td>-2.559</td>\n",
       "      <td>2.300</td>\n",
       "      <td>0.408</td>\n",
       "      <td>-0.001</td>\n",
       "      <td>-1.077</td>\n",
       "      <td>0.125</td>\n",
       "      <td>-0.254</td>\n",
       "      <td>0.975</td>\n",
       "      <td>0.070</td>\n",
       "      <td>-0.470</td>\n",
       "      <td>4</td>\n",
       "    </tr>\n",
       "    <tr>\n",
       "      <th>396</th>\n",
       "      <td>-3.208</td>\n",
       "      <td>-0.608</td>\n",
       "      <td>-0.516</td>\n",
       "      <td>1.098</td>\n",
       "      <td>1.529</td>\n",
       "      <td>1.069</td>\n",
       "      <td>0.186</td>\n",
       "      <td>-0.947</td>\n",
       "      <td>-0.248</td>\n",
       "      <td>-0.059</td>\n",
       "      <td>0</td>\n",
       "    </tr>\n",
       "    <tr>\n",
       "      <th>369</th>\n",
       "      <td>-3.124</td>\n",
       "      <td>2.733</td>\n",
       "      <td>-0.857</td>\n",
       "      <td>-0.334</td>\n",
       "      <td>-0.312</td>\n",
       "      <td>0.587</td>\n",
       "      <td>0.849</td>\n",
       "      <td>0.475</td>\n",
       "      <td>-0.174</td>\n",
       "      <td>-0.899</td>\n",
       "      <td>6</td>\n",
       "    </tr>\n",
       "    <tr>\n",
       "      <th>144</th>\n",
       "      <td>-1.012</td>\n",
       "      <td>0.516</td>\n",
       "      <td>-2.041</td>\n",
       "      <td>0.320</td>\n",
       "      <td>-0.634</td>\n",
       "      <td>1.969</td>\n",
       "      <td>0.041</td>\n",
       "      <td>1.414</td>\n",
       "      <td>-0.687</td>\n",
       "      <td>0.047</td>\n",
       "      <td>1</td>\n",
       "    </tr>\n",
       "    <tr>\n",
       "      <th>54</th>\n",
       "      <td>-2.596</td>\n",
       "      <td>1.560</td>\n",
       "      <td>-1.249</td>\n",
       "      <td>0.656</td>\n",
       "      <td>-1.095</td>\n",
       "      <td>1.292</td>\n",
       "      <td>-0.550</td>\n",
       "      <td>1.006</td>\n",
       "      <td>-0.150</td>\n",
       "      <td>-0.553</td>\n",
       "      <td>10</td>\n",
       "    </tr>\n",
       "  </tbody>\n",
       "</table>\n",
       "</div>"
      ],
      "text/plain": [
       "        1      2      3      4      5      6      7      8      9      10  0 \n",
       "213 -2.559  2.300  0.408 -0.001 -1.077  0.125 -0.254  0.975  0.070 -0.470   4\n",
       "396 -3.208 -0.608 -0.516  1.098  1.529  1.069  0.186 -0.947 -0.248 -0.059   0\n",
       "369 -3.124  2.733 -0.857 -0.334 -0.312  0.587  0.849  0.475 -0.174 -0.899   6\n",
       "144 -1.012  0.516 -2.041  0.320 -0.634  1.969  0.041  1.414 -0.687  0.047   1\n",
       "54  -2.596  1.560 -1.249  0.656 -1.095  1.292 -0.550  1.006 -0.150 -0.553  10"
      ]
     },
     "execution_count": 198,
     "metadata": {},
     "output_type": "execute_result"
    }
   ],
   "source": [
    "res_train.head()"
   ]
  },
  {
   "cell_type": "code",
   "execution_count": 199,
   "metadata": {},
   "outputs": [
    {
     "data": {
      "text/plain": [
       "array([10,  8,  3,  2,  1,  0,  5,  4,  6,  7,  9])"
      ]
     },
     "execution_count": 199,
     "metadata": {},
     "output_type": "execute_result"
    }
   ],
   "source": [
    "df.iloc[:,0].unique()"
   ]
  },
  {
   "cell_type": "code",
   "execution_count": 200,
   "metadata": {},
   "outputs": [],
   "source": [
    "res_train.to_csv('data/vowel_train.csv', index=False, header=None)\n",
    "res_test.to_csv('data/vowel_test.csv', index=False, header=None)"
   ]
  },
  {
   "cell_type": "code",
   "execution_count": 202,
   "metadata": {},
   "outputs": [
    {
     "name": "stdout",
     "output_type": "stream",
     "text": [
      "<class 'pandas.core.frame.DataFrame'>\n",
      "Int64Index: 106 entries, 173 to 478\n",
      "Data columns (total 10 columns):\n",
      "1     106 non-null float64\n",
      "2     106 non-null float64\n",
      "3     106 non-null float64\n",
      "4     106 non-null float64\n",
      "5     106 non-null float64\n",
      "6     106 non-null float64\n",
      "7     106 non-null float64\n",
      "8     106 non-null float64\n",
      "9     106 non-null float64\n",
      "10    106 non-null float64\n",
      "dtypes: float64(10)\n",
      "memory usage: 9.1 KB\n"
     ]
    }
   ],
   "source": [
    "X_test.info()"
   ]
  },
  {
   "cell_type": "code",
   "execution_count": null,
   "metadata": {},
   "outputs": [],
   "source": []
  }
 ],
 "metadata": {
  "kernelspec": {
   "display_name": "Python 3",
   "language": "python",
   "name": "python3"
  },
  "language_info": {
   "codemirror_mode": {
    "name": "ipython",
    "version": 3
   },
   "file_extension": ".py",
   "mimetype": "text/x-python",
   "name": "python",
   "nbconvert_exporter": "python",
   "pygments_lexer": "ipython3",
   "version": "3.6.7"
  }
 },
 "nbformat": 4,
 "nbformat_minor": 2
}
