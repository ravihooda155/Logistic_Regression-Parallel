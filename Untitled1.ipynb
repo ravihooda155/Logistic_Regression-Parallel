{
 "cells": [
  {
   "cell_type": "code",
   "execution_count": 1,
   "metadata": {},
   "outputs": [],
   "source": [
    "import pandas as pd\n",
    "import numpy as np\n",
    "import matplotlib.pyplot as plt\n",
    "from sklearn.multiclass import OneVsRestClassifier\n",
    "from sklearn.metrics import confusion_matrix\n",
    "from sklearn.metrics import accuracy_score\n",
    "from sklearn.model_selection import train_test_split\n",
    "from sklearn.linear_model import LogisticRegression\n",
    "from sklearn.utils import shuffle"
   ]
  },
  {
   "cell_type": "code",
   "execution_count": 42,
   "metadata": {},
   "outputs": [],
   "source": [
    "def func(str):\n",
    "    train_df = pd.read_csv('data/'+str+'_train.csv', header=None)\n",
    "    test_df = pd.read_csv('data/'+str+'_test.csv', header=None)\n",
    "    X_train, y_train, X_test, y_test = train_df.iloc[:,:-1], train_df.iloc[:,-1], test_df.iloc[:,:-1], test_df.iloc[:,-1]\n",
    "    clf = LogisticRegression(random_state=0, solver='lbfgs', multi_class='ovr').fit(X_train, y_train)\n",
    "    pred_train = clf.predict(X_train)\n",
    "    pred_test = clf.predict(X_test) \n",
    "    ts_err =  accuracy_score(pred_test, y_test)\n",
    "    tr_err = accuracy_score(pred_train, y_train)\n",
    "    print('{0}: Test error: {1} Train error: {2}'.format(str, ts_err, tr_err, ))\n",
    "    print('X_train size: {0}, X_test size: {1}, class: {2}'.format(X_train.shape, X_test.shape, len(y_train.unique())))\n",
    "    print(y_train.unique())"
   ]
  },
  {
   "cell_type": "code",
   "execution_count": 43,
   "metadata": {},
   "outputs": [
    {
     "name": "stderr",
     "output_type": "stream",
     "text": [
      "/home/neil/.local/lib/python3.6/site-packages/sklearn/linear_model/logistic.py:757: ConvergenceWarning: lbfgs failed to converge. Increase the number of iterations.\n",
      "  \"of iterations.\", ConvergenceWarning)\n",
      "/home/neil/.local/lib/python3.6/site-packages/sklearn/linear_model/logistic.py:757: ConvergenceWarning: lbfgs failed to converge. Increase the number of iterations.\n",
      "  \"of iterations.\", ConvergenceWarning)\n",
      "/home/neil/.local/lib/python3.6/site-packages/sklearn/linear_model/logistic.py:757: ConvergenceWarning: lbfgs failed to converge. Increase the number of iterations.\n",
      "  \"of iterations.\", ConvergenceWarning)\n"
     ]
    },
    {
     "name": "stdout",
     "output_type": "stream",
     "text": [
      "acoustic: Test error: 0.6882334284808119 Train error: 0.6835611659107488\n",
      "X_train size: (63058, 50), X_test size: (15765, 50), class: 3\n",
      "[2 3 1]\n",
      "dna: Test error: 0.9525 Train error: 0.989375\n",
      "X_train size: (1600, 180), X_test size: (400, 180), class: 3\n",
      "[1 3 2]\n",
      "ecoli: Test error: 0.75 Train error: 0.7611940298507462\n",
      "X_train size: (268, 7), X_test size: (68, 7), class: 8\n",
      "[0 4 7 1 5 2 6 3]\n",
      "glass: Test error: 0.5581395348837209 Train error: 0.6608187134502924\n",
      "X_train size: (171, 9), X_test size: (43, 9), class: 6\n",
      "[2 1 7 3 5 6]\n",
      "iris: Test error: 0.9666666666666667 Train error: 0.95\n",
      "X_train size: (120, 4), X_test size: (30, 4), class: 3\n",
      "[0 1 2]\n"
     ]
    },
    {
     "name": "stderr",
     "output_type": "stream",
     "text": [
      "/home/neil/.local/lib/python3.6/site-packages/sklearn/linear_model/logistic.py:757: ConvergenceWarning: lbfgs failed to converge. Increase the number of iterations.\n",
      "  \"of iterations.\", ConvergenceWarning)\n",
      "/home/neil/.local/lib/python3.6/site-packages/sklearn/linear_model/logistic.py:757: ConvergenceWarning: lbfgs failed to converge. Increase the number of iterations.\n",
      "  \"of iterations.\", ConvergenceWarning)\n"
     ]
    },
    {
     "name": "stdout",
     "output_type": "stream",
     "text": [
      "letter: Test error: 0.7243333333333334 Train error: 0.7189166666666666\n",
      "X_train size: (12000, 16), X_test size: (3000, 16), class: 26\n",
      "[26  2 10  6  9 13 12 25  7  4  1  8 24 16 18 20 17 23  3 11 21  5 14 19\n",
      " 15 22]\n",
      "satimage: Test error: 0.8207440811724915 Train error: 0.8483652762119503\n",
      "X_train size: (3548, 36), X_test size: (887, 36), class: 6\n",
      "[6 2 5 3 1 4]\n",
      "seismic: Test error: 0.7125277513479226 Train error: 0.7081417108059247\n",
      "X_train size: (63058, 50), X_test size: (15765, 50), class: 3\n",
      "[3 2 1]\n",
      "vowel: Test error: 0.5566037735849056 Train error: 0.6445497630331753\n",
      "X_train size: (422, 10), X_test size: (106, 10), class: 11\n",
      "[ 4  0  6  1 10  5  3  7  8  9  2]\n"
     ]
    },
    {
     "name": "stderr",
     "output_type": "stream",
     "text": [
      "/home/neil/.local/lib/python3.6/site-packages/sklearn/linear_model/logistic.py:757: ConvergenceWarning: lbfgs failed to converge. Increase the number of iterations.\n",
      "  \"of iterations.\", ConvergenceWarning)\n",
      "/home/neil/.local/lib/python3.6/site-packages/sklearn/linear_model/logistic.py:757: ConvergenceWarning: lbfgs failed to converge. Increase the number of iterations.\n",
      "  \"of iterations.\", ConvergenceWarning)\n",
      "/home/neil/.local/lib/python3.6/site-packages/sklearn/linear_model/logistic.py:757: ConvergenceWarning: lbfgs failed to converge. Increase the number of iterations.\n",
      "  \"of iterations.\", ConvergenceWarning)\n",
      "/home/neil/.local/lib/python3.6/site-packages/sklearn/linear_model/logistic.py:757: ConvergenceWarning: lbfgs failed to converge. Increase the number of iterations.\n",
      "  \"of iterations.\", ConvergenceWarning)\n",
      "/home/neil/.local/lib/python3.6/site-packages/sklearn/linear_model/logistic.py:757: ConvergenceWarning: lbfgs failed to converge. Increase the number of iterations.\n",
      "  \"of iterations.\", ConvergenceWarning)\n",
      "/home/neil/.local/lib/python3.6/site-packages/sklearn/linear_model/logistic.py:757: ConvergenceWarning: lbfgs failed to converge. Increase the number of iterations.\n",
      "  \"of iterations.\", ConvergenceWarning)\n"
     ]
    },
    {
     "name": "stdout",
     "output_type": "stream",
     "text": [
      "wine: Test error: 0.5328798185941043 Train error: 0.5292115711854793\n",
      "X_train size: (3526, 11), X_test size: (882, 11), class: 7\n",
      "[6 5 7 4 8 3 9]\n"
     ]
    },
    {
     "name": "stderr",
     "output_type": "stream",
     "text": [
      "/home/neil/.local/lib/python3.6/site-packages/sklearn/linear_model/logistic.py:757: ConvergenceWarning: lbfgs failed to converge. Increase the number of iterations.\n",
      "  \"of iterations.\", ConvergenceWarning)\n"
     ]
    }
   ],
   "source": [
    "func('acoustic')\n",
    "func('dna')\n",
    "func('ecoli')\n",
    "func('glass')\n",
    "func('iris')\n",
    "func('letter')\n",
    "func('satimage')\n",
    "func('seismic')\n",
    "func('vowel')\n",
    "func('wine')"
   ]
  },
  {
   "cell_type": "code",
   "execution_count": null,
   "metadata": {},
   "outputs": [],
   "source": []
  }
 ],
 "metadata": {
  "kernelspec": {
   "display_name": "Python 3",
   "language": "python",
   "name": "python3"
  },
  "language_info": {
   "codemirror_mode": {
    "name": "ipython",
    "version": 3
   },
   "file_extension": ".py",
   "mimetype": "text/x-python",
   "name": "python",
   "nbconvert_exporter": "python",
   "pygments_lexer": "ipython3",
   "version": "3.6.7"
  }
 },
 "nbformat": 4,
 "nbformat_minor": 2
}
